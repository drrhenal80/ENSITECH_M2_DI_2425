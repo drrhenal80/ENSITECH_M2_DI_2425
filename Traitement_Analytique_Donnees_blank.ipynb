{
 "cells": [
  {
   "cell_type": "markdown",
   "id": "8c28089c-36a0-4a5c-bb7d-3120f7d07ff2",
   "metadata": {},
   "source": [
    "##### `Nom et prenom :`\n",
    "##### `Numéro de groupe:`"
   ]
  },
  {
   "cell_type": "markdown",
   "id": "ce230446-c795-468b-a0b0-ee496183b592",
   "metadata": {},
   "source": [
    "# **Manipulation et traitement de données avec Python** "
   ]
  },
  {
   "cell_type": "markdown",
   "id": "dd779952-c4ba-4988-b742-caf0ffd131f0",
   "metadata": {},
   "source": [
    "Ce cahier de notes présente une série d'exercices à résoudre en utilisant les fonctionnalités des packages `pandas` et `scikit-learn`. Chaque exercice doit être résolu à la suite de chaque énoncé, en expliquant de façon claire et concise les étapes utilisées pour y répondre. Les exercices doivent impérativement être résolus à l'aide des fonctions disponibles dans `pandas` et `scikit-learn` qui sont optimisées pour les opérations sur des data frames (ne pas utiliser d'opérations non optimisées, comme des boucles sur des colonnes ou des lignes)."
   ]
  },
  {
   "cell_type": "markdown",
   "id": "7a86b3a5-1a73-4e62-b318-e2d064dac693",
   "metadata": {},
   "source": [
    "## Import de fichiers, opérations de reagroupement et détection de données manquantes "
   ]
  },
  {
   "cell_type": "markdown",
   "id": "c5aa950e-7709-4159-8d89-804672ed9456",
   "metadata": {},
   "source": [
    "### `Exercice 1`"
   ]
  },
  {
   "cell_type": "markdown",
   "id": "7746342b-f74d-419e-b343-1132e2404891",
   "metadata": {},
   "source": [
    "Créer un tableau de données (data frame) df_earthquake à partir du fichier nommé <earthquakes.csv>. - Une fois le fichier chargé, répondre aux questions suivantes :\n",
    "\n",
    "- Le data frame est-il vide ?\n",
    "- Si le data frame n'est pas vide, quelles sont ses dimensions (nombre de lignes et de colonnes) ?\n",
    "- Ensuite, extraire le label des colonnes ainsi que leurs types de données.\n",
    "- Construire un data frame (q) composé de l'extraction du nombre de données manquantes et non manquantes par colonne. Changer les étiquettes des colonnes par « données_non_manquantes » et « données_manquantes ».\n",
    "- À partir du data frame de données manquantes/non manquantes, extraire le top 6 des variables avec le plus de valeurs manquantes.\n",
    "- Agréger tous les résultats précédents dans un dictionnaire."
   ]
  },
  {
   "cell_type": "code",
   "execution_count": null,
   "id": "5c49647e-f4cc-44cb-9c7a-c6e4a6138d93",
   "metadata": {},
   "outputs": [],
   "source": []
  },
  {
   "cell_type": "markdown",
   "id": "65609b8b-a706-4a06-a4b1-c5145b796aa3",
   "metadata": {},
   "source": [
    "### `Exercice 2`"
   ]
  },
  {
   "cell_type": "markdown",
   "id": "aab0b14c-f051-4855-8412-6c78c8a3a943",
   "metadata": {},
   "source": [
    "En utilisant le data frame créé dans l'exercice précédent (**df_earthquake**), répondre aux questions suivantes :\n",
    "\n",
    "- Changer le format de la variable time (le temps est initialement défini en millisecondes à partir de la date 1970-01-01T00:00:00.000Z) au format date (aaaa-mm-jj)\n",
    "- Entre quelles dates ont été enregistrées les données ?\n",
    "- Extraire les catégories des variables tsunami, magType, type et alert.\n",
    "- Construire un tableau croisé (utiliser la fonction `groupby`) des variables type (celle-ci définit le type de tremblement) et tsunami (variable binaire déterminant si le tremblement est d'origine continentale ou non) qui montre les valeurs minimales, maximales, le nombre d'occurrences et la moyenne de la magnitude du tremblement (variable mag). Quelles conclusions peut-on tirer des valeurs obtenues ?\n",
    "- Répliquer l'exercice précédent à l'aide de la fonction `pivot_table`."
   ]
  },
  {
   "cell_type": "code",
   "execution_count": null,
   "id": "92a4508e-8c13-44a3-935d-4b66c405a73e",
   "metadata": {},
   "outputs": [],
   "source": []
  },
  {
   "cell_type": "markdown",
   "id": "8765b788-7637-4166-aed2-602d2337fd68",
   "metadata": {},
   "source": [
    "## Analytique des bases de données relationnelles: Opérations de regroupement, de jointure, d'agrégation et de pivotage."
   ]
  },
  {
   "cell_type": "markdown",
   "id": "ef53e0f3-7450-4379-ac62-c786ca86c97b",
   "metadata": {},
   "source": [
    "### `Exercice 3`"
   ]
  },
  {
   "cell_type": "markdown",
   "id": "4e48f2c3-c4c3-44ca-96a1-9819a5322ef8",
   "metadata": {},
   "source": [
    "À partir du schéma simple stocké dans le fichier `wheater.db`, effectuer les opérations suivantes:\n",
    "\n",
    "- À l'aide de la blibliothèque `sqlite3` charger les tableaux disponibles dans le fichier `wheater.db` en utilisant Pandas. Pour ce faire, il faudrait dans un premier temps, extraire les noms des tableaux dans le schéma relationnel du fichier `wheater.db`\n",
    "- Joindre les tableaux du schéma relationnel, en utilisant les deux principales fonctionnalités disponibles en pandas (merge et join)"
   ]
  },
  {
   "cell_type": "code",
   "execution_count": null,
   "id": "57cef8bc-675e-48c8-b47d-3cb5a9875ac0",
   "metadata": {},
   "outputs": [],
   "source": []
  },
  {
   "cell_type": "markdown",
   "id": "88f8e422-368a-4db5-b611-28975d861a3e",
   "metadata": {},
   "source": [
    "### `Exercice 4`"
   ]
  },
  {
   "cell_type": "markdown",
   "id": "9c367ea3-5b74-4c46-933d-3821b27a8c47",
   "metadata": {},
   "source": [
    "À partir du tableau joint (celui obtenu à partir de la fonction « Merge ») de l'exercice précédent, effectuez les opérations demandées et répondez aux questions suivantes.\n",
    "\n",
    "- Déterminer le nombre de stations climatologiques enregistrées dans ce tableau.\n",
    "- Générer un tableau de résultats regroupés par date, nom et type de donnée présentant les valeurs minimales, maximales et moyennes par groupe. Le regroupement par date doit se faire par mois. Pour ce faire, il est impératif de changer le format de la colonne date.\n",
    "- Changer le format obtenu du format court au format long (pivotage) à l'aide de la fonction `melt`.\n",
    "- À partir du long format obtenu, déterminer les 10 stations avec les valeurs moyennes les plus importantes enregistrées pendant le premier mois de l'année pour la catégorie SNOW.\n",
    "- Déterminer les 35 valeurs de température les plus élevées enregistrées pendant l'année.\n",
    "- Quelles sont les cinq stations météorologiques qui ont enregistré les températures les plus élevées ?\n",
    "- Selon les valeurs de température enregistrées pour les stations météorologiques, quel a été le mois le plus chaud à New York en 2018 ?"
   ]
  },
  {
   "cell_type": "code",
   "execution_count": null,
   "id": "75af8ab8-773f-4cee-96fb-c2c53a1281fb",
   "metadata": {},
   "outputs": [],
   "source": []
  },
  {
   "cell_type": "markdown",
   "id": "041d3e68-3b86-4345-afc1-e2e95271a039",
   "metadata": {},
   "source": [
    "### `Exercice 5`"
   ]
  },
  {
   "cell_type": "markdown",
   "id": "d8c5bfdc-2391-4b90-9963-a54facb74bbc",
   "metadata": {},
   "source": [
    "Un bureau d'études a conçu un système relationnel pour gérer une plateforme de vente de musique numérique (similaire, mais à une échelle réduite, à iTunes ou Spotify). Ce schéma inclut des informations sur les artistes, les albums, les chansons, les clients, les employés, les factures et les listes de lecture.\n",
    "\n",
    "Le schéma relationnel est illustré dans la figure ci-dessus\n",
    "\n",
    "<img src=\"html/Schema_relationnel.jpg\" alt=\"alternatvie text\" width=\"1000\" height=\"700\">\n",
    "\n",
    "À partir de ce système relationnel, veuillez répondre aux questions suivantes :\n",
    "\n",
    "- Utilisez la bibliothèque `sqlite3` (déjà utilisée dans l'exercice précedent) pour charger les tables contenus dans le fichier `Chinook.db` et stocker les dans un dictionnaire.\n",
    "- À l'aide du schéma relationnel et des fonctions de regroupement et de jointure (utilisez la fontion `merge` pour les jointures), veuillez répondre aux questions suivantes formulées par le chef du service des ventes :\n",
    "  - Quel montant les clients ont-ils dépensé par artiste\n",
    "  - Quels sont les 10 genres musicaux les plus vendus?\n",
    "  - Quelles sont les chansons les plus vendues (Quantité)\n",
    "  - Quel est le total des ventes par répresentante de support\n",
    "  - Quelles playlists contiennent les chansons Eruption et The Trooper, qui en sont les compositeurs et à quels albums appartiennent-elles\n"
   ]
  },
  {
   "cell_type": "code",
   "execution_count": null,
   "id": "3eb0a3d7-7d73-4fc4-ae51-c03d151c3670",
   "metadata": {},
   "outputs": [],
   "source": []
  },
  {
   "cell_type": "code",
   "execution_count": null,
   "id": "d9c55342-7f4a-4c69-9f10-c1b892b9b4b8",
   "metadata": {},
   "outputs": [],
   "source": []
  },
  {
   "cell_type": "code",
   "execution_count": null,
   "id": "5d1d28e0-2a5b-4483-8bab-28b1b8bd56fb",
   "metadata": {},
   "outputs": [],
   "source": []
  },
  {
   "cell_type": "code",
   "execution_count": null,
   "id": "51adb03c-75f6-49c2-af30-e767dfe0e5c7",
   "metadata": {},
   "outputs": [],
   "source": []
  },
  {
   "cell_type": "code",
   "execution_count": null,
   "id": "72fa97e2-9be3-434d-972b-dfdd3f7f6b82",
   "metadata": {},
   "outputs": [],
   "source": []
  },
  {
   "cell_type": "code",
   "execution_count": null,
   "id": "f4d517e9-7cd1-4e52-91df-74afb88524a2",
   "metadata": {},
   "outputs": [],
   "source": []
  },
  {
   "cell_type": "markdown",
   "id": "0b344208-9858-472b-80d9-655092716dae",
   "metadata": {},
   "source": [
    "## Traitement et mise en forme des données pour les algorithmes de Machine Learning"
   ]
  },
  {
   "cell_type": "markdown",
   "id": "5d9cfc01-7ad6-4291-be8a-307fd86895bc",
   "metadata": {},
   "source": [
    "### `Exercice 6`"
   ]
  },
  {
   "cell_type": "markdown",
   "id": "1d7a0e56-a8ee-4ef3-af83-9a0a9f6865b8",
   "metadata": {},
   "source": [
    "Une enquête de satisfaction concernant un service de santé publique a été réalisée auprès d'un échantillon de 2 000 personnes. Certaines réponses n'ont pas été fournies ou ont été perdues lors du traitement des données pour l'agrégation. Les données doivent maintenant être mises en forme afin de pouvoir être utilisées pour concevoir un modèle de machine learning visant à prédire le degré de satisfaction des futurs répondants. À partir du fichier `Satisfaction.csv`, appliquez un traitement des données afin de les préparer pour la modélisation ultérieure, en suivant les consignes suivantes:\n",
    "\n",
    "- Identifiez les valeurs manquantes pour chaque variable ainsi que le total des données manquantes dans l'ensemble du dataset. Présentez les résultats sous la forme d'un dictionnaire\n",
    "- Effectuez l'imputation des données manquantes en remplaçant les valeurs numériques manquantes par la moyenne, et en appliquant deux méthodes d'imputation pour les variables catégorielles : une imputation par la modalité la plus fréquente et une imputation par une valeur constante (par exemple, 'inconnu'). Vous devez afficher les DataFrames avant et après l'imputation.\n",
    "- Appliquez l'encodage approprié aux variables catégorielles et une standardisation aux variables numériques. Vous devez afficher les DataFrames avant et après l'encodage, en utilisant une approche étape par étape\n",
    "- Appliquez le même traitement que dans le point précédent, mais cette fois en adoptant une approche de type pipeline"
   ]
  },
  {
   "cell_type": "code",
   "execution_count": null,
   "id": "6073fc62-1096-46e7-b15a-f9110c015c03",
   "metadata": {},
   "outputs": [],
   "source": []
  },
  {
   "cell_type": "code",
   "execution_count": null,
   "id": "159176e8-ae58-4da5-ab88-a386f73f7703",
   "metadata": {},
   "outputs": [],
   "source": []
  },
  {
   "cell_type": "code",
   "execution_count": null,
   "id": "646689a1-e188-429b-ab97-171f0bd97fee",
   "metadata": {},
   "outputs": [],
   "source": []
  },
  {
   "cell_type": "code",
   "execution_count": null,
   "id": "0ba069a5-30e5-43c3-b1b7-2489d4bef817",
   "metadata": {},
   "outputs": [],
   "source": []
  },
  {
   "cell_type": "code",
   "execution_count": null,
   "id": "9b977504-1bcb-4957-982a-f8a53aa18576",
   "metadata": {},
   "outputs": [],
   "source": []
  },
  {
   "cell_type": "code",
   "execution_count": null,
   "id": "22ef1416-e305-4957-9618-f32328720fbf",
   "metadata": {},
   "outputs": [],
   "source": []
  }
 ],
 "metadata": {
  "kernelspec": {
   "display_name": "Python 3 (ipykernel)",
   "language": "python",
   "name": "python3"
  },
  "language_info": {
   "codemirror_mode": {
    "name": "ipython",
    "version": 3
   },
   "file_extension": ".py",
   "mimetype": "text/x-python",
   "name": "python",
   "nbconvert_exporter": "python",
   "pygments_lexer": "ipython3",
   "version": "3.11.7"
  }
 },
 "nbformat": 4,
 "nbformat_minor": 5
}
