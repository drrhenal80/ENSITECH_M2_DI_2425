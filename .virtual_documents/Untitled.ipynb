


import pandas as pd
import numpy as np
from sklearn.pipeline import Pipeline
from sklearn.compose import ColumnTransformer
from sklearn.impute import SimpleImputer
from sklearn.preprocessing import StandardScaler, OneHotEncoder, OrdinalEncoder
#from sklearn.model_selection import train_test_split
#from sklearn.linear_model import LinearRegression

# Exemple de données fictives
data = {
    'age': [25, 30, np.nan, 40, 28, np.nan, 35, 42, 33, 29] * 5,  # Variable numérique
    'income': [50000, 60000, 70000, 80000, 90000, 100000, 110000, 95000, 98000, 93000]*5,
    'education_level': ['bachelor', np.nan, 'doctorate', np.nan, 'master', 'bachelor', 'doctorate', np.nan, 'master', 'bachelor'] * 5,  # Variable ordinale
    'gender': ['male', 'female', np.nan, 'female', 'male', np.nan, 'male', np.nan, 'female', 'male'] * 5,  # Variable nominale
    'city': [np.nan, 'Los Angeles', 'Chicago', 'New York', 'Chicago', np.nan, 'Los Angeles', 'Chicago', np.nan, 'New York'] * 5,  # Variable nominale
}

data = pd.DataFrame(data)

# Séparation des caractéristiques numériques et catégorielles
numerical_features = ['age']  # Retirer 'income' car c'est la cible
categorical_features = ['gender', 'city']
categorical_ord_encoder = ['education_level']

# Création du pipeline pour les données numériques
numerical_pipeline = Pipeline([
    ('imputer', SimpleImputer(strategy='mean')),  # Remplir les valeurs manquantes par la moyenne
    # ('scaler', StandardScaler())  # Normalisation des données (optionnel)
])

# Création du pipeline pour les données catégorielles
categorical_pipeline = Pipeline([
    ('imputer', SimpleImputer(strategy='most_frequent')),  # Remplir les valeurs manquantes par la modalité la plus fréquente
    ('encoder', OneHotEncoder(handle_unknown='ignore', sparse_output=False, drop='first'))  # Encodage OneHot des variables catégorielles
])

# Création du pipeline pour les données ordinales
categorical_ord_pipeline = Pipeline([
    ('imputer', SimpleImputer(strategy='most_frequent')),  # Imputer les NaN avec la modalité la plus fréquente
    ('ord_encoder', OrdinalEncoder(categories=[['bachelor', 'master', 'doctorate']]))  # Encodage ordinal
])

# Combinaison des pipelines dans un transformer composé
preprocessor = ColumnTransformer([
    ('num', numerical_pipeline, numerical_features),
    ('cat', categorical_pipeline, categorical_features),
    ('ord_cat', categorical_ord_pipeline, categorical_ord_encoder)
])

# Création du pipeline final, avec un modèle d'exemple (par exemple, un modèle de régression linéaire)
pipeline = Pipeline([
    ('preprocessor', preprocessor),
    # ('model', LinearRegression())  # Rajout du modèle optionnel
])

# Séparation des données en train/test (ici, données fictives utilisées pour l'exemple)
X = data.drop(['income'], axis=1)  # Caractéristiques (sans la colonne 'income')
y = data['income']  # Cible

# Ajuster le pipeline
pipeline.fit(X, y)

# Transformation des données
X_transformed = pipeline.transform(X)

# Reconstruction du DataFrame traité avec les nouveaux noms de colonnes
column_names = pipeline.named_steps['preprocessor'].get_feature_names_out()
X_transformed_df = pd.DataFrame(X_transformed, columns=column_names)

X_transformed_df  # Afficher les premières lignes du DataFrame transformé



